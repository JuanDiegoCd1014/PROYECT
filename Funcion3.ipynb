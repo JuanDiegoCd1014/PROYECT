{
  "nbformat": 4,
  "nbformat_minor": 0,
  "metadata": {
    "colab": {
      "provenance": []
    },
    "kernelspec": {
      "name": "python3",
      "display_name": "Python 3"
    },
    "language_info": {
      "name": "python"
    }
  },
  "cells": [
    {
      "cell_type": "code",
      "execution_count": null,
      "metadata": {
        "id": "KaTKNN4HgN86",
        "colab": {
          "base_uri": "https://localhost:8080/"
        },
        "outputId": "29cff2d5-310f-489d-ba0a-0288f5c88afc"
      },
      "outputs": [
        {
          "output_type": "stream",
          "name": "stdout",
          "text": [
            "ingrese el valor del numero0\n",
            "la cantidad de digitos del numero es 1\n"
          ]
        }
      ],
      "source": [
        "valor = input(\"ingrese el valor del numero\")\n",
        "print(\"la cantidad de digitos del numero es\", str(len(valor)))"
      ]
    }
  ]
}