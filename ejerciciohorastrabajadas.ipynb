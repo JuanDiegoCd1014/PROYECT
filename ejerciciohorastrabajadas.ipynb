{
  "nbformat": 4,
  "nbformat_minor": 0,
  "metadata": {
    "colab": {
      "provenance": []
    },
    "kernelspec": {
      "name": "python3",
      "display_name": "Python 3"
    },
    "language_info": {
      "name": "python"
    }
  },
  "cells": [
    {
      "cell_type": "markdown",
      "source": [
        "  Se desea obtener la nomina semanal de los empleados dde una empresa cuyo trabajo se paga por horas y del modo siguiente: \n",
        "  *las horas inferiores o iguales a 35 horas (normales) se pagan a una tarifa determinada que se debe introducir por teclado al igual que numero de horas y el nombre del trabajador.\n",
        "*las horas superiores a 35 se pagaran como extras a un promedio  de 1.5 horas normales.\n",
        "*los impuestos a deducir a los trabajadores varian en funcion de su sueldo mensual: \n",
        "-sueldo<=2.000, libre de impuestos.\n",
        "-las siguientes 220 euros al 20 por 100.\n",
        "-el resto, al 30 por 100.\n",
        "autor: LAURA VANESSA OSORIO OLAYA\n",
        "grupo: fpnoche"
      ],
      "metadata": {
        "id": "Un4JKMBJraRn"
      }
    },
    {
      "cell_type": "code",
      "source": [
        "var_nombreTrabajador=\"\"\n",
        "var_horasTrabajadas= 0\n",
        "var_tarifaHora= 0\n",
        "var_pagoSema= 0\n",
        "var_pagoSemat= 0\n",
        "\n",
        "var_nombreTrabajador= input(\"nombre del trabajador\")\n",
        "var_horasTrabajadas = float(input(\"¿cuantas horas trabajo esta semana?: \"))\n",
        "var_tarifaHora= float(input(\"¿cual es la tarifa por hora?: \"))\n",
        "\n",
        "var_pagoSema =(var_horasTrabajadas*var_tarifaHora)\n",
        "\n",
        "\n",
        "if(var_horasTrabajadas<= 35):\n",
        "  var_pagoSemat = var_pagoSema\n",
        "else:\n",
        "  var_pagoSemat = (var_pagoSema*1.5)\n",
        "  \n",
        "print(\"La nomina semanal de \", var_nombreTrabajador+\" es: \",str(var_pagoSemat))\n"
      ],
      "metadata": {
        "colab": {
          "base_uri": "https://localhost:8080/"
        },
        "id": "Zus2OaB8tuXi",
        "outputId": "93a5f067-5f2a-4de3-96ef-1ebd5c269bbc"
      },
      "execution_count": null,
      "outputs": [
        {
          "output_type": "stream",
          "name": "stdout",
          "text": [
            "nombre del trabajadorjuan\n",
            "¿cuantas horas trabajo esta semana?: 38\n",
            "¿cual es la tarifa por hora?: 60\n",
            "La nomina semanal de  juan es:  3420.0\n"
          ]
        }
      ]
    }
  ]
}