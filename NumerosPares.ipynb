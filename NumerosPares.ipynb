{
  "nbformat": 4,
  "nbformat_minor": 0,
  "metadata": {
    "colab": {
      "provenance": []
    },
    "kernelspec": {
      "name": "python3",
      "display_name": "Python 3"
    },
    "language_info": {
      "name": "python"
    }
  },
  "cells": [
    {
      "cell_type": "code",
      "execution_count": null,
      "metadata": {
        "colab": {
          "base_uri": "https://localhost:8080/"
        },
        "id": "0xrHli6WZDs5",
        "outputId": "3d6b8bdf-2316-47ad-f426-346ed2e737d5"
      },
      "outputs": [
        {
          "output_type": "stream",
          "name": "stdout",
          "text": [
            "digite el numero: 852\n",
            "los cantidad de digitos pares del numero son:  1\n"
          ]
        }
      ],
      "source": [
        "def NumerosPares (Num):\n",
        "  Numpar= 0\n",
        "  count = 0\n",
        "  while NumerosPares != 0:\n",
        "      Numpar = Num%10\n",
        "      if  Numpar != Num%2:\n",
        "          Num //= 10\n",
        "          count += 1\n",
        "      return count\n",
        "\n",
        "Num = int(input(\"digite el numero: \"))\n",
        "print(\"los cantidad de digitos pares del numero son: \",  (NumerosPares(Num)))"
      ]
    }
  ]
}