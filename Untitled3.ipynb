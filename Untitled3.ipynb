{
  "nbformat": 4,
  "nbformat_minor": 0,
  "metadata": {
    "colab": {
      "provenance": []
    },
    "kernelspec": {
      "name": "python3",
      "display_name": "Python 3"
    },
    "language_info": {
      "name": "python"
    }
  },
  "cells": [
    {
      "cell_type": "code",
      "execution_count": null,
      "metadata": {
        "colab": {
          "base_uri": "https://localhost:8080/"
        },
        "id": "gV5cKddWTN9M",
        "outputId": "e70aa9e4-62f3-4c33-a4e1-a4c9c5f55721"
      },
      "outputs": [
        {
          "output_type": "stream",
          "name": "stdout",
          "text": [
            "ingrese el incio del ciclo4\n",
            "ingrese el fin del ciclo16\n",
            "usted va en  0\n",
            "usted va en  1\n",
            "usted va en  2\n",
            "usted va en  3\n",
            "usted va en  4\n",
            "usted va en  5\n",
            "usted va en  6\n",
            "usted va en  7\n",
            "usted va en  8\n",
            "usted va en  9\n",
            "usted va en  10\n",
            "usted va en  11\n",
            "usted va en  12\n",
            "usted va en  13\n",
            "usted va en  14\n",
            "usted va en  15\n"
          ]
        }
      ],
      "source": [
        "\n",
        "var_pro_int_conCli = 0\n",
        "fin= 0 \n",
        "\n",
        "var_pro_int_conCli = int(input(\"ingrese el incio del ciclo\"))\n",
        "fin = int(input(\"ingrese el fin del ciclo\"))\n",
        "\n",
        "for var_pro_int_conCli in range(fin):\n",
        "  print(\"usted va en \",var_pro_int_conCli)"
      ]
    }
  ]
}