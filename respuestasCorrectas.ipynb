{
  "nbformat": 4,
  "nbformat_minor": 0,
  "metadata": {
    "colab": {
      "provenance": []
    },
    "kernelspec": {
      "name": "python3",
      "display_name": "Python 3"
    },
    "language_info": {
      "name": "python"
    }
  },
  "cells": [
    {
      "cell_type": "markdown",
      "source": [],
      "metadata": {
        "id": "sLNnVyWaJRCd"
      }
    },
    {
      "cell_type": "markdown",
      "source": [
        "Elaborar un algoritmo que solicite el número de respuestas correctas, incorrectas y en blanco, correspondientes a postulantes, y muestre su puntaje final considerando, que por cada respuesta correcta tendrá 4 puntos, respuestas incorrectas tendrá -1 y respuestas en blanco tendrá 0."
      ],
      "metadata": {
        "id": "zW5ZUkrkJU9D"
      }
    },
    {
      "cell_type": "code",
      "source": [
        "var_nombrePostulante=\"\"\n",
        "var_respuestasCorrectas = 0\n",
        "var_respuestasIncorrectas= 0\n",
        "var_respuestasBlanco= 0\n",
        "var_puntajeFinal= 0\n",
        "var_valorCorrecto = 0\n",
        "var_valorIncorrecto = 0\n",
        "var_valorBlanco = 0 \n",
        "\n",
        "var_nombrePostulante= input(\"Ingresar nombre del postulante\")\n",
        "var_respuestasCorrectas = float(input(\"¿cuantas respuestas correctas tuvo el postulante?: \"))\n",
        "var_respuestasIncorrectas = float(input(\"¿cuantas respuestas incorrectas tuvo el postulante?: \"))\n",
        "var_respuestasBlanco = float(input(\"¿cuantas respuestas en blanco tuvo el postulante?: \"))\n",
        "\n",
        "var_valorCorrecto = (var_respuestasCorrectas*4)\n",
        "var_valorIncorrecto = (var_respuestasIncorrectas*(-1))\n",
        "var_valorBlanco = (var_respuestasBlanco*0)\n",
        "\n",
        "var_puntajeFinal=(var_valorCorrecto+var_valorIncorrecto)\n",
        "\n",
        "print(\"el puntaje del postulante \",var_nombrePostulante + \" es \",str(var_puntajeFinal))\n",
        "\n"
      ],
      "metadata": {
        "colab": {
          "base_uri": "https://localhost:8080/"
        },
        "id": "UaiXKmc7JuuV",
        "outputId": "1024d513-18c8-4598-edc5-fca7ae1c60ec"
      },
      "execution_count": null,
      "outputs": [
        {
          "output_type": "stream",
          "name": "stdout",
          "text": [
            "Ingresar nombre del postulantegvjf\n",
            "¿cuantas respuestas correctas tuvo el postulante?: 59\n",
            "¿cuantas respuestas incorrectas tuvo el postulante?: 55\n",
            "¿cuantas respuestas en blanco tuvo el postulante?: 2\n",
            "el puntaje del postulante  gvjf es  181.0\n"
          ]
        }
      ]
    }
  ]
}