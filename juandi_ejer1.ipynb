{
  "nbformat": 4,
  "nbformat_minor": 0,
  "metadata": {
    "colab": {
      "provenance": []
    },
    "kernelspec": {
      "name": "python3",
      "display_name": "Python 3"
    },
    "language_info": {
      "name": "python"
    }
  },
  "cells": [
    {
      "cell_type": "code",
      "execution_count": null,
      "metadata": {
        "colab": {
          "base_uri": "https://localhost:8080/"
        },
        "id": "pRFvMeS5J3TP",
        "outputId": "7bead940-e958-4f95-9af4-d3bdbd25b255"
      },
      "outputs": [
        {
          "output_type": "stream",
          "name": "stdout",
          "text": [
            "Ingresar nombre del postulanteJuan\n",
            "¿cuantas respuestas correctas tuvo el postulante?: 36\n",
            "¿cuantas respuestas incorrectas tuvo el postulante?: 15\n",
            "¿cuantas respuestas en blanco tuvo el postulante?: 3\n",
            "el puntaje del postulante  Juan es  129.0\n"
          ]
        }
      ],
      "source": [
        "var_nombrePostulante=\"\"\n",
        "var_respuestasCorrectas = 0\n",
        "var_respuestasIncorrectas= 0\n",
        "var_respuestasBlanco= 0\n",
        "var_puntajeFinal= 0\n",
        "var_valorCorrecto = 0\n",
        "var_valorIncorrecto = 0\n",
        "var_valorBlanco = 0 \n",
        "\n",
        "var_nombrePostulante= input(\"Ingresar nombre del postulante\")\n",
        "var_respuestasCorrectas = float(input(\"¿cuantas respuestas correctas tuvo el postulante?: \"))\n",
        "var_respuestasIncorrectas = float(input(\"¿cuantas respuestas incorrectas tuvo el postulante?: \"))\n",
        "var_respuestasBlanco = float(input(\"¿cuantas respuestas en blanco tuvo el postulante?: \"))\n",
        "\n",
        "var_valorCorrecto = (var_respuestasCorrectas*4)\n",
        "var_valorIncorrecto = (var_respuestasIncorrectas*(-1))\n",
        "var_valorBlanco = (var_respuestasBlanco*0)\n",
        "\n",
        "var_puntajeFinal=(var_valorCorrecto+var_valorIncorrecto)\n",
        "\n",
        "print(\"el puntaje del postulante \",var_nombrePostulante + \" es \",str(var_puntajeFinal))"
      ]
    }
  ]
}