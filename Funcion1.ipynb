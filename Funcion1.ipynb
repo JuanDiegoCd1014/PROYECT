{
  "nbformat": 4,
  "nbformat_minor": 0,
  "metadata": {
    "colab": {
      "provenance": []
    },
    "kernelspec": {
      "name": "python3",
      "display_name": "Python 3"
    },
    "language_info": {
      "name": "python"
    }
  },
  "cells": [
    {
      "cell_type": "code",
      "execution_count": null,
      "metadata": {
        "colab": {
          "base_uri": "https://localhost:8080/"
        },
        "id": "kQNnhMXPTKPg",
        "outputId": "834521c2-235d-4ec0-fb49-6f15a0691212"
      },
      "outputs": [
        {
          "output_type": "stream",
          "name": "stdout",
          "text": [
            "digite el numero: 25\n",
            "el ultimo valor del numero 25 es: 5\n"
          ]
        }
      ],
      "source": [
        "def Ultimo(Num):\n",
        "    Ultimo = 0 \n",
        "    Ultimo = Num%10\n",
        "    return(Ultimo)\n",
        "\n",
        "valorNumero = int(input(\"digite el numero: \"))\n",
        "print(\"el ultimo valor del numero\",str(valorNumero)+\" es:\", Ultimo(valorNumero))"
      ]
    }
  ]
}