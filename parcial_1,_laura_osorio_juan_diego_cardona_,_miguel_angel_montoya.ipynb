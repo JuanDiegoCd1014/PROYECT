{
  "nbformat": 4,
  "nbformat_minor": 0,
  "metadata": {
    "colab": {
      "provenance": []
    },
    "kernelspec": {
      "name": "python3",
      "display_name": "Python 3"
    },
    "language_info": {
      "name": "python"
    }
  },
  "cells": [
    {
      "cell_type": "markdown",
      "source": [
        "primer parcial : \n",
        "punto 1"
      ],
      "metadata": {
        "id": "HUW7mQr8ZfDO"
      }
    },
    {
      "cell_type": "code",
      "source": [
        "anterior = (0)\n",
        "posterior = (1)\n",
        "termino = int(input(\"por favor ingrese el numero de termino a imprimir: \"))\n",
        "\n",
        "\n",
        "\n",
        "for x in range(0,termino):\n",
        "  valor = anterior+posterior\n",
        "  anterior = posterior\n",
        "  posterior = valor\n",
        "  print(valor)"
      ],
      "metadata": {
        "id": "EKAgqSrCZmRu"
      },
      "execution_count": null,
      "outputs": []
    },
    {
      "cell_type": "markdown",
      "source": [
        "punto 2:"
      ],
      "metadata": {
        "id": "snkeWikQcXh8"
      }
    },
    {
      "cell_type": "code",
      "source": [
        "m = int(input(\"introduzca el valor de m: \"))\n",
        "n = int(input(\"introduzco el valor de n: \"))\n",
        "\n",
        "dif = m - n \n",
        "f = 1\n",
        "\n",
        "while m > dif:\n",
        "    f = f * m\n",
        "    m -= 1\n",
        "    \n",
        "print(\"combinaciones: \",m)"
      ],
      "metadata": {
        "colab": {
          "base_uri": "https://localhost:8080/"
        },
        "id": "Z_0_BA4-caFf",
        "outputId": "16baef2b-74cb-4a34-b126-8cb83de38f66"
      },
      "execution_count": null,
      "outputs": [
        {
          "output_type": "stream",
          "name": "stdout",
          "text": [
            "introduzca el valor de m: 4\n",
            "introduzco el valor de n: 4\n",
            "combinaciones:  0\n"
          ]
        }
      ]
    },
    {
      "cell_type": "markdown",
      "source": [
        "punto 3:"
      ],
      "metadata": {
        "id": "u95OlYLXcmmF"
      }
    },
    {
      "cell_type": "code",
      "source": [
        "n= int(input(\"ingrese un valor: \"))\n",
        "if n==5:\n",
        "  contador=0\n",
        "  for i in range(n):\n",
        "    m= i+1\n",
        "    n= m+1\n",
        "    contador= contador + (m*n)\n",
        "  print(contador)\n",
        "elif n==3:\n",
        "  resultado=0\n",
        "  for i in range (n):\n",
        "    resultado= resultado+(pow(2,i))\n",
        "  print(resultado)\n",
        "\n",
        "elif n==100:\n",
        "  resultado=0\n",
        "  for i in range (n):\n",
        "    resultado= resultado+(pow(2,i))\n",
        "  print(resultado)\n",
        "\n",
        "\n",
        "else:\n",
        "   print(\"numero no valido siga intentando\")"
      ],
      "metadata": {
        "colab": {
          "base_uri": "https://localhost:8080/"
        },
        "id": "TNejmQ7YcpvS",
        "outputId": "1c03a98e-4832-4f53-c077-d97096be803b"
      },
      "execution_count": null,
      "outputs": [
        {
          "output_type": "stream",
          "name": "stdout",
          "text": [
            "ingrese un valor: 45\n",
            "numero no valido siga intentando\n"
          ]
        }
      ]
    },
    {
      "cell_type": "markdown",
      "source": [
        "punto 4:"
      ],
      "metadata": {
        "id": "AGopWv9Hc_gl"
      }
    },
    {
      "cell_type": "code",
      "source": [],
      "metadata": {
        "id": "QvNHJPdE8Aw8"
      },
      "execution_count": null,
      "outputs": []
    },
    {
      "cell_type": "code",
      "source": [
        "var_nombreTrabajador=\"\"\n",
        "var_horasTrabajadas= 0\n",
        "var_tarifaHora= 0\n",
        "var_pagoSema= 0\n",
        "var_pagoSemat= 0\n",
        "can_Trabajadores = 0\n",
        "total_Hombres = 0\n",
        "maximo_Mujeres = 0\n",
        "var_genero = \"\"\n",
        "minimo_Mujeres = 0 \n",
        "\n",
        "can_Trabajadores= int(input(\"Ingrese cantidad de trabajadores: \"))\n",
        "\n",
        "for x in range(1,can_Trabajadores+1):\n",
        "  var_nombreTrabajador = input(\"ingrese su nombre: \")\n",
        "  var_horasTrabajadas = int(input(\"ingrese cuantas horas trabajo esta semana\"))\n",
        "  var_tarifaHora = int(input(\"ingrese cuanto vale su hora de trabajo \"))\n",
        "  var_genero = input(\"ingrese su genero: M=masculino F:femenino\")\n",
        "\n",
        "  #var_pagoSema =(var_horasTrabajadas*var_tarifaHora)\n",
        "\n",
        "  if(var_horasTrabajadas<= 35):\n",
        "    var_pagoSemat = var_pagoSema\n",
        "  else:\n",
        "    var_pagoSemat = (var_pagoSema*1.5)\n",
        "\n",
        "  if var_genero == \"f\":\n",
        "    sueldo_total_mujeres = var_pagoSema+var_pagoSema\n",
        "    minimo_Mujeres= min(sueldo_total_mujeres)\n",
        "    maximo_Mujeres= max(sueldo_total_mujeres)\n",
        "    promedio_sueldos = (sueldo_total_mujeres/2)\n",
        "    promedio_horas = (var_horasTrabajadas)\n",
        "    \n",
        "\n",
        "\n",
        "\n",
        "\n",
        "print(minimo_Mujeres)\n",
        "print(maximo_Mujeres)\n",
        "print(sueldo_total_mujeres)"
      ],
      "metadata": {
        "id": "_Q5o9x6qdCpZ"
      },
      "execution_count": null,
      "outputs": []
    },
    {
      "cell_type": "code",
      "source": [],
      "metadata": {
        "id": "W0iHhzqC8KDJ"
      },
      "execution_count": null,
      "outputs": []
    }
  ]
}