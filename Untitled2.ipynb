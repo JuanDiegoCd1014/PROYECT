{
  "nbformat": 4,
  "nbformat_minor": 0,
  "metadata": {
    "colab": {
      "provenance": []
    },
    "kernelspec": {
      "name": "python3",
      "display_name": "Python 3"
    },
    "language_info": {
      "name": "python"
    }
  },
  "cells": [
    {
      "cell_type": "markdown",
      "source": [
        "Un angulo se considera agudo si es menor de 90 grados, obtuso si es mayor de 90 grados. Utilizando esta informacion, escribir un algoritmo que acepte un angulo en grados y visiualice el tipo de angulo correspondiente a los grados introducidos. "
      ],
      "metadata": {
        "id": "OIUSXCu0slYy"
      }
    },
    {
      "cell_type": "code",
      "source": [
        "var_grado = 0\n",
        "var_tipoAngulo = \"\"\n",
        "\n",
        "var_grado = float(input(\"ingrese el valor del angulo \"))\n",
        "\n",
        "if (var_grado < 90):\n",
        " var_tipoAngulo = \"angulo agudo\"\n",
        "else:\n",
        "    var_tipoAngulo = \"angulo obtuso\"\n",
        "\n",
        "print(\"el valor del grado y correspondiente a un angulo: \", str(var_tipoAngulo))"
      ],
      "metadata": {
        "colab": {
          "base_uri": "https://localhost:8080/"
        },
        "id": "0NidAMFjt3y7",
        "outputId": "335595bd-1401-419f-b1a2-4ad0ec3626b7"
      },
      "execution_count": null,
      "outputs": [
        {
          "output_type": "stream",
          "name": "stdout",
          "text": [
            "ingrese el valor del angulo 5\n",
            "el valor del grado y correspondiente a un angulo:  angulo agudo\n"
          ]
        }
      ]
    }
  ]
}