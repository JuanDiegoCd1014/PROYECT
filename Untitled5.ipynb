{
  "nbformat": 4,
  "nbformat_minor": 0,
  "metadata": {
    "colab": {
      "provenance": []
    },
    "kernelspec": {
      "name": "python3",
      "display_name": "Python 3"
    },
    "language_info": {
      "name": "python"
    }
  },
  "cells": [
    {
      "cell_type": "code",
      "execution_count": null,
      "metadata": {
        "colab": {
          "base_uri": "https://localhost:8080/"
        },
        "id": "tel0QyO4SjXh",
        "outputId": "dd996bac-01cf-48f4-f521-52b5e84e9029"
      },
      "outputs": [
        {
          "output_type": "stream",
          "name": "stdout",
          "text": [
            "ingrese la cantidad de trabajores: 4\n",
            "ingrese su nombre: JOHAN\n",
            "ingrese su genero: A.FEMENINO B.MASCULINO  B\n",
            "ingrese cuantas horas trabajo esta semana5\n",
            "ingrese cuanto vale su hora de trabajo 3000\n",
            "ingrese su nombre: LAURA\n",
            "ingrese su genero: A.FEMENINO B.MASCULINO  A\n",
            "ingrese cuantas horas trabajo esta semana40\n",
            "ingrese cuanto vale su hora de trabajo 4500\n",
            "ingrese su nombre: STEVEN\n",
            "ingrese su genero: A.FEMENINO B.MASCULINO  B\n",
            "ingrese cuantas horas trabajo esta semana10\n",
            "ingrese cuanto vale su hora de trabajo 3000\n",
            "ingrese su nombre: VANESSA\n",
            "ingrese su genero: A.FEMENINO B.MASCULINO  A\n",
            "ingrese cuantas horas trabajo esta semana8\n",
            "ingrese cuanto vale su hora de trabajo 9000\n",
            "el total es PUTAS\n"
          ]
        }
      ],
      "source": [
        "var_nombreTrabajador=\"\"\n",
        "var_horasTrabajadas= 0\n",
        "var_tarifaHora= 0\n",
        "var_pagoSema= 0\n",
        "var_pagoSemat= 0\n",
        "cantidad_Trabajos = 0\n",
        "total_Hombres = 0\n",
        "genero= \"\"\n",
        "\n",
        "\n",
        "cantidad_Trabajos = int(input(\"ingrese la cantidad de trabajores: \"))\n",
        "\n",
        "for x  in range(cantidad_Trabajos):\n",
        "\n",
        "  var_nombreTrabajador = input(\"ingrese su nombre: \")\n",
        "  genero = input(\"ingrese su genero: A.FEMENINO B.MASCULINO  \")\n",
        "  var_horasTrabajadas = int(input(\"ingrese cuantas horas trabajo esta semana\"))\n",
        "  var_tarifaHora = int(input(\"ingrese cuanto vale su hora de trabajo \"))\n",
        "\n",
        "  var_pagoSema =(var_horasTrabajadas*var_tarifaHora)\n",
        "\n",
        "  if(genero == \"B\"):\n",
        "    var_pagoSemat = \"PUTOS\"\n",
        "  else:\n",
        "    var_pagoSemat = \"PUTAS\"\n",
        "\n",
        "  \n",
        "print(\"el total es\", var_pagoSemat)\n"
      ]
    }
  ]
}