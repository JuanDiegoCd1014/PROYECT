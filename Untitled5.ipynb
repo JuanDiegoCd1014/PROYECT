{
  "nbformat": 4,
  "nbformat_minor": 0,
  "metadata": {
    "colab": {
      "provenance": []
    },
    "kernelspec": {
      "name": "python3",
      "display_name": "Python 3"
    },
    "language_info": {
      "name": "python"
    }
  },
  "cells": [
    {
      "cell_type": "code",
      "execution_count": null,
      "metadata": {
        "colab": {
          "base_uri": "https://localhost:8080/",
          "height": 235
        },
        "id": "OXzy7yzuq05W",
        "outputId": "3a83d9bc-b4e0-4b24-a0ff-84713f7c0ace"
      },
      "outputs": [
        {
          "output_type": "error",
          "ename": "NameError",
          "evalue": "ignored",
          "traceback": [
            "\u001b[0;31m---------------------------------------------------------------------------\u001b[0m",
            "\u001b[0;31mNameError\u001b[0m                                 Traceback (most recent call last)",
            "\u001b[0;32m<ipython-input-2-d9fe887987fd>\u001b[0m in \u001b[0;36m<module>\u001b[0;34m\u001b[0m\n\u001b[1;32m      5\u001b[0m \u001b[0mvar_pagoSemat\u001b[0m\u001b[0;34m=\u001b[0m \u001b[0;36m0\u001b[0m\u001b[0;34m\u001b[0m\u001b[0;34m\u001b[0m\u001b[0m\n\u001b[1;32m      6\u001b[0m \u001b[0;34m\u001b[0m\u001b[0m\n\u001b[0;32m----> 7\u001b[0;31m \u001b[0mcantidadTrabajadores\u001b[0m\u001b[0;34m\u001b[0m\u001b[0;34m\u001b[0m\u001b[0m\n\u001b[0m\u001b[1;32m      8\u001b[0m \u001b[0;34m\u001b[0m\u001b[0m\n\u001b[1;32m      9\u001b[0m \u001b[0mvar_nombreTrabajador\u001b[0m\u001b[0;34m=\u001b[0m \u001b[0minput\u001b[0m\u001b[0;34m(\u001b[0m\u001b[0;34m\"nombre del trabajador\"\u001b[0m\u001b[0;34m)\u001b[0m\u001b[0;34m\u001b[0m\u001b[0;34m\u001b[0m\u001b[0m\n",
            "\u001b[0;31mNameError\u001b[0m: name 'cantidadTrabajadores' is not defined"
          ]
        }
      ],
      "source": [
        "var_nombreTrabajador=\"\"\n",
        "var_horasTrabajadas= 0\n",
        "var_tarifaHora= 0\n",
        "var_pagoSema= 0\n",
        "var_pagoSemat= 0\n",
        "\n",
        "cantidadTrabjadores = input(\"ingrese el numero total de trabajadores\")\n",
        "cantidadTrabajadoresM= input(\"ingrese el numero total de trabajadoras\")\n",
        "cantidadTrabajadoresH = input(\"ingrese el numero total de trabajadores\")\n",
        "\n",
        "\n",
        "var_nombreTrabajador= input(\"nombre del trabajador\")\n",
        "var_horasTrabajadas = float(input(\"¿cuantas horas trabajo esta semana?: \"))\n",
        "var_tarifaHora= float(input(\"¿cual es la tarifa por hora?: \"))\n",
        "\n",
        "var_pagoSema =(var_horasTrabajadas*var_tarifaHora)\n",
        "\n",
        "\n",
        "if(var_horasTrabajadas<= 35):\n",
        "  var_pagoSemat = var_pagoSema\n",
        "else:\n",
        "  var_pagoSemat = (var_pagoSema*1.5)\n",
        "  \n",
        "print(\"La nomina semanal de \", var_nombreTrabajador+\" es: \",str(var_pagoSemat))"
      ]
    },
    {
      "cell_type": "code",
      "source": [],
      "metadata": {
        "id": "FB4o3tAwrX98"
      },
      "execution_count": null,
      "outputs": []
    }
  ]
}