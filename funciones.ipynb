{
  "nbformat": 4,
  "nbformat_minor": 0,
  "metadata": {
    "colab": {
      "provenance": []
    },
    "kernelspec": {
      "name": "python3",
      "display_name": "Python 3"
    },
    "language_info": {
      "name": "python"
    }
  },
  "cells": [
    {
      "cell_type": "code",
      "execution_count": null,
      "metadata": {
        "colab": {
          "base_uri": "https://localhost:8080/"
        },
        "id": "nE3acVwFXCVY",
        "outputId": "38dbc5fd-a830-4a73-91ab-2c7d922a8fe0"
      },
      "outputs": [
        {
          "output_type": "stream",
          "name": "stdout",
          "text": [
            "digite el numero: 4\n",
            "el factorial es:  24\n"
          ]
        }
      ],
      "source": [
        "\"\"\"\n",
        "programa _calculo del factorial de un numero\n",
        "autor: fp Grupo noche\n",
        "version 1.0\n",
        "fecha 17_09_2022\n",
        "\n",
        "\"\"\"\n",
        "\n",
        "num = 0\n",
        "fac = 1\n",
        "\n",
        "num = int(input(\"digite el numero: \"))\n",
        "if num <= 1:\n",
        "  for i in range(1,num+1):\n",
        "    fac = fac* i\n",
        "print(\"el factorial es: \", str(fac));\n",
        "\n",
        "\n",
        "\n"
      ]
    },
    {
      "cell_type": "code",
      "source": [
        "import math \n",
        "num = int(input(\"digite el numero: \"))\n",
        "print(\"el factorial es: \",str(math.factorial(num)))"
      ],
      "metadata": {
        "id": "qVjXtYyrb7F-"
      },
      "execution_count": null,
      "outputs": []
    }
  ]
}