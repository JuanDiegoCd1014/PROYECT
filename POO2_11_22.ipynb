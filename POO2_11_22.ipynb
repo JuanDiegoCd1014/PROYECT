{
  "nbformat": 4,
  "nbformat_minor": 0,
  "metadata": {
    "colab": {
      "provenance": []
    },
    "kernelspec": {
      "name": "python3",
      "display_name": "Python 3"
    },
    "language_info": {
      "name": "python"
    }
  },
  "cells": [
    {
      "cell_type": "code",
      "execution_count": null,
      "metadata": {
        "colab": {
          "base_uri": "https://localhost:8080/"
        },
        "id": "5gaHTH_Dtrtl",
        "outputId": "d6de0723-4cbe-4720-a35d-c0ffdb73335b"
      },
      "outputs": [
        {
          "output_type": "stream",
          "name": "stdout",
          "text": [
            "Mi coche tiene  4 Ruedas\n",
            "Mi coche tiene  Gasolina combustible\n",
            "Mi coche tiene  1000 cilindraje\n",
            "Mi coche tiene  3 puerta\n",
            "El Coche se esta desplazando sobre 4 ruedas\n",
            "El Coche se esta desplazando sobre 4 ruedas\n"
          ]
        }
      ],
      "source": [
        "class Coche():\n",
        "# Atributos\n",
        "    Ruedas=4\n",
        "    cilindraje = 1000\n",
        "    combustible= \"Gasolina\"\n",
        "    puerta = 3\n",
        "# Método \n",
        "    def desplazamiento(self):\n",
        "        print(\"El Coche se esta desplazando sobre 4 ruedas\")\n",
        "\n",
        "# Programa principal\n",
        "\n",
        "# Generar una instacia de la clase\n",
        "# Instanciar un objeto \n",
        "# Declarar un objeto \n",
        "miVehiculo=Coche()\n",
        "obj_miCarrito = Coche()\n",
        "# Acceso al atributo\n",
        "print(\"Mi coche tiene \", miVehiculo.Ruedas, \"Ruedas\")\n",
        "print(\"Mi coche tiene \", miVehiculo.combustible, \"combustible\")\n",
        "print(\"Mi coche tiene \", miVehiculo.cilindraje, \"cilindraje\")\n",
        "print(\"Mi coche tiene \", miVehiculo.puerta, \"puerta\")\n",
        "\n",
        "# Forma que un objeto solicita que se ejecute un metodo\n",
        "miVehiculo.desplazamiento()\n",
        "obj_miCarrito.desplazamiento()"
      ]
    },
    {
      "cell_type": "code",
      "source": [
        "class Coche():\n",
        "# Atributos\n",
        "    Ruedas=4\n",
        "# Método \n",
        "    def desplazamiento(self):\n",
        "        print(\"El Coche se esta desplazando sobre 4 ruedas\")\n",
        "class Moto():\n",
        "    # Atributos\n",
        "    Ruedas=2\n",
        "# Método \n",
        "    def desplazamiento(self):\n",
        "        print(\"El Moto se esta desplazando sobre 2 ruedas\")\n",
        "# Programa principal\n",
        "\n",
        "# Generar una instacia de la clase\n",
        "# Instanciar un objeto \n",
        "print(\"-----------------Primer Objeto Coche-----------------\")\n",
        "# Declarar un objeto \n",
        "miCoche=Coche()\n",
        "# Acceso al atributo\n",
        "print(\"Mi coche tiene \", miCoche.Ruedas, \"Ruedas\")\n",
        "# Forma que un objeto solicita que se ejecute un metodo\n",
        "miCoche.desplazamiento()\n",
        "print(\"-----------------Segundo Objeto Moto----------------\")\n",
        "# Declarar un objeto \n",
        "miMoto=Moto()\n",
        "# Acceso al atributo\n",
        "print(\"Mi Moto tiene \", miMoto.Ruedas, \"Ruedas\")\n",
        "# Forma que un objeto solicita que se ejecute un metodo\n",
        "miMoto.desplazamiento()\n"
      ],
      "metadata": {
        "colab": {
          "base_uri": "https://localhost:8080/"
        },
        "id": "xyet9tOx1ArN",
        "outputId": "b5ad4cb9-e7e3-4099-d86a-93e1788eb30a"
      },
      "execution_count": null,
      "outputs": [
        {
          "output_type": "stream",
          "name": "stdout",
          "text": [
            "-----------------Primer Objeto Coche-----------------\n",
            "Mi coche tiene  4 Ruedas\n",
            "El Coche se esta desplazando sobre 4 ruedas\n",
            "-----------------Segundo Objeto Moto----------------\n",
            "Mi Moto tiene  2 Ruedas\n",
            "El Moto se esta desplazando sobre 2 ruedas\n"
          ]
        }
      ]
    },
    {
      "cell_type": "code",
      "source": [
        "# contructor\n",
        "class Cachorro():\n",
        "# Metodo contructor\n",
        "  def __init__(self, p_color, p_raza):\n",
        "      self.color = p_color\n",
        "      self.raza = p_raza\n",
        "\n",
        "\n",
        "perrito = Cachorro(\"Marron claro\", \"Golden retriever\")\n",
        "obj_perritodeVicky = (\"Blanco\",\"Shitzu\")\n",
        "\n",
        "print(\"Este es un cachorro de la raza {} y es de color {}\".format(perrito.raza, perrito.color))"
      ],
      "metadata": {
        "colab": {
          "base_uri": "https://localhost:8080/"
        },
        "id": "1Wqb6bIc3Fp2",
        "outputId": "f12d354d-a911-4df2-e98e-68dd5dc6d8ca"
      },
      "execution_count": null,
      "outputs": [
        {
          "output_type": "stream",
          "name": "stdout",
          "text": [
            "Este es un cachorro de la raza Golden retriever y es de color Marron claro\n"
          ]
        }
      ]
    }
  ]
}