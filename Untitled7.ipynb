{
  "nbformat": 4,
  "nbformat_minor": 0,
  "metadata": {
    "colab": {
      "provenance": []
    },
    "kernelspec": {
      "name": "python3",
      "display_name": "Python 3"
    },
    "language_info": {
      "name": "python"
    }
  },
  "cells": [
    {
      "cell_type": "code",
      "execution_count": null,
      "metadata": {
        "colab": {
          "base_uri": "https://localhost:8080/"
        },
        "id": "eWXC8aSDevMO",
        "outputId": "126b6a64-2b85-4e0c-cfbe-16b18c652d2e"
      },
      "outputs": [
        {
          "name": "stdout",
          "output_type": "stream",
          "text": [
            "ingrese el valor a hallar: 7\n"
          ]
        },
        {
          "output_type": "execute_result",
          "data": {
            "text/plain": [
              "1"
            ]
          },
          "metadata": {},
          "execution_count": 1
        }
      ],
      "source": [
        "lista = [1,2,3,4,5,6,7,8,9]\n",
        "digito = int(input(\"ingrese el valor a hallar: \"))\n",
        "def vectorSi (lista, digito ):\n",
        "    \n",
        "      for x in lista:\n",
        "        if x == digito:\n",
        "          return 1  \n",
        "\n",
        "      return 0  \n",
        "\n",
        "vectorSi(lista, digito)\n",
        "\n",
        "\n",
        "\n",
        "\n"
      ]
    }
  ]
}