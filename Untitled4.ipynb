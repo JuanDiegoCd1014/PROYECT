{
  "nbformat": 4,
  "nbformat_minor": 0,
  "metadata": {
    "colab": {
      "provenance": []
    },
    "kernelspec": {
      "name": "python3",
      "display_name": "Python 3"
    },
    "language_info": {
      "name": "python"
    }
  },
  "cells": [
    {
      "cell_type": "code",
      "execution_count": null,
      "metadata": {
        "colab": {
          "base_uri": "https://localhost:8080/"
        },
        "id": "tUdAGbcvT7_P",
        "outputId": "07c931a5-ec9d-481b-f2fb-de3661bf06b4"
      },
      "outputs": [
        {
          "output_type": "stream",
          "name": "stdout",
          "text": [
            "introduzca el valor de m: 12\n",
            "introduzco el valor de n: 8\n",
            "combinaciones:  4\n"
          ]
        }
      ],
      "source": [
        "m = int(input(\"introduzca el valor de m: \"))\n",
        "n = int(input(\"introduzco el valor de n: \"))\n",
        "\n",
        "dif = m - n \n",
        "f = 1\n",
        "\n",
        "while m > dif:\n",
        "    f = f * m\n",
        "    m -= 1\n",
        "    \n",
        "print(\"combinaciones: \",m)"
      ]
    }
  ]
}