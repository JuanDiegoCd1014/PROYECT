{
  "nbformat": 4,
  "nbformat_minor": 0,
  "metadata": {
    "colab": {
      "provenance": []
    },
    "kernelspec": {
      "name": "python3",
      "display_name": "Python 3"
    },
    "language_info": {
      "name": "python"
    }
  },
  "cells": [
    {
      "cell_type": "markdown",
      "source": [
        "Elaborar un algoritmo que solicite el número de respuestas correctas, incorrectas y en blanco, correspondientes a postulantes, y muestre su puntaje final considerando, que por cada respuesta correcta tendrá 4 puntos, respuestas incorrectas tendrá -1 y respuestas en blanco tendrá 0.\n"
      ],
      "metadata": {
        "id": "tFd0wGEKJ9rr"
      }
    },
    {
      "cell_type": "code",
      "source": [
        "var_numResCorrec=0\n",
        "var_numResIncorrec=0\n",
        "var_numResBlan=0\n",
        "var_nombPostulan=\"\"\n",
        "var_Correcta=0\n",
        "var_Incorrecta=0\n",
        "var_BLANCO=0\n",
        "var_puntajeFinal=0\n",
        "\n",
        "var_nombPostulan= input(\"escriba nombre del postulante\")\n",
        "var_numResCorrec= float(input(\"¿Cuantas resouestas correctas tuvo el postulante?\"))\n",
        "var_numResIncorrec= float(input(\"¿Cuantas respuestas incorrectas tuvo el postulante?\"))\n",
        "var_numResBlan= float(input(\"¿Cuantas resouestas en blanco tuvo el postulante?\"))\n",
        "\n",
        "var_Correcta = (var_numResCorrec*4) \n",
        "var_Incorrecta = (var_numResIncorrec*(-1))\n",
        "var_BLANCO = (var_numResBlan*0)\n",
        "\n",
        "var_puntajeFinal=(var_Correcta+var_Incorrecta)\n",
        "print(\"El puntaje del postulante es\", var_nombPostulan + \"es\" ,var_puntajeFinal)\n",
        "\n"
      ],
      "metadata": {
        "colab": {
          "base_uri": "https://localhost:8080/"
        },
        "id": "oLxcK3_5KDJt",
        "outputId": "9e69830d-5eba-47d4-de81-b9628f2a5aa2"
      },
      "execution_count": null,
      "outputs": [
        {
          "output_type": "stream",
          "name": "stdout",
          "text": [
            "escriba nombre del postulanteDIRI\n",
            "¿Cuantas resouestas correctas tuvo el postulante?4\n",
            "¿Cuantas respuestas incorrectas tuvo el postulante?4\n",
            "¿Cuantas resouestas en blanco tuvo el postulante?3\n",
            "El puntaje del postulante es DIRIes 12.0\n"
          ]
        }
      ]
    }
  ]
}