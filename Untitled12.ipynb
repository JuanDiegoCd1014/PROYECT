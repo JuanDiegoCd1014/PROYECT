{
  "nbformat": 4,
  "nbformat_minor": 0,
  "metadata": {
    "colab": {
      "provenance": []
    },
    "kernelspec": {
      "name": "python3",
      "display_name": "Python 3"
    },
    "language_info": {
      "name": "python"
    }
  },
  "cells": [
    {
      "cell_type": "code",
      "execution_count": null,
      "metadata": {
        "id": "9Tv5o0EDZPq4",
        "outputId": "1b14f9a0-adb1-4c1b-ef94-81b4fddf0947",
        "colab": {
          "base_uri": "https://localhost:8080/"
        }
      },
      "outputs": [
        {
          "output_type": "execute_result",
          "data": {
            "text/plain": [
              "4.5"
            ]
          },
          "metadata": {},
          "execution_count": 1
        }
      ],
      "source": [
        "lista = [0,1,2,3,4,5,6,7,8,9]\n",
        "\n",
        "def promedioVector(lista):\n",
        "      promedio = 0\n",
        "      for x in lista:\n",
        "        promedio = lista[x]/2\n",
        "      return promedio \n",
        "\n",
        "promedioVector(lista)"
      ]
    }
  ]
}