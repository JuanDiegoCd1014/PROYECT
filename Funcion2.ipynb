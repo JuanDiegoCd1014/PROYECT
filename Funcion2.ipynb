{
  "nbformat": 4,
  "nbformat_minor": 0,
  "metadata": {
    "colab": {
      "provenance": []
    },
    "kernelspec": {
      "name": "python3",
      "display_name": "Python 3"
    },
    "language_info": {
      "name": "python"
    }
  },
  "cells": [
    {
      "cell_type": "code",
      "execution_count": null,
      "metadata": {
        "colab": {
          "base_uri": "https://localhost:8080/"
        },
        "id": "OlR-Hi6hU7q_",
        "outputId": "97acaa5b-c2da-48d5-cfb3-6880f90b990d"
      },
      "outputs": [
        {
          "output_type": "stream",
          "name": "stdout",
          "text": [
            "ingrese el valor del numero85632\n",
            "los ultimos dos digitos del numero es 32\n"
          ]
        }
      ],
      "source": [
        "valor = input(\"ingrese el valor del numero\")\n",
        "print(\"los ultimos dos digitos del numero es\", valor[-2:])"
      ]
    }
  ]
}