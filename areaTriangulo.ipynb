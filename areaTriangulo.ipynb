{
  "nbformat": 4,
  "nbformat_minor": 0,
  "metadata": {
    "colab": {
      "provenance": []
    },
    "kernelspec": {
      "name": "python3",
      "display_name": "Python 3"
    },
    "language_info": {
      "name": "python"
    }
  },
  "cells": [
    {
      "cell_type": "markdown",
      "source": [],
      "metadata": {
        "id": "59h9ydABSg4X"
      }
    },
    {
      "cell_type": "markdown",
      "source": [
        "elabore un algoritmo que lea los tres lados de un triangulo cualquiera y calcule su area, considerar: si a, b y c son lols ldados y s el semiperimetro"
      ],
      "metadata": {
        "id": "2YcIZhm5Siee"
      }
    },
    {
      "cell_type": "code",
      "source": [
        "import math\n",
        "var_lado1=0\n",
        "var_lado2=0\n",
        "var_lado3=0\n",
        "var_semiper=0\n",
        "var_valorTotal=0\n",
        "\n",
        "var_lado1= float(input(\"ingrese valor lado 1\"))\n",
        "var_lado2= float(input(\"ingrese valor lado 2\"))\n",
        "var_lado3= float(input(\"ingrese valor lado 3\"))\n",
        "\n",
        "var_semiper = (var_lado1+var_lado2+var_lado3)/2\n",
        "\n",
        "var_valorTotal = math.sqrt(var_semiper*(var_semiper-var_lado1)*(var_semiper-var_lado2)*(var_semiper-var_lado3))\n",
        "\n",
        "print(\"el valor del area es\",str(var_valorTotal))\n",
        "\n"
      ],
      "metadata": {
        "colab": {
          "base_uri": "https://localhost:8080/"
        },
        "id": "1TZzPlXTUwu0",
        "outputId": "8e5cc401-d035-4f34-9580-507e11dc1d09"
      },
      "execution_count": null,
      "outputs": [
        {
          "output_type": "stream",
          "name": "stdout",
          "text": [
            "ingrese valor lado 14\n",
            "ingrese valor lado 25\n",
            "ingrese valor lado 33\n",
            "el valor del area es 6.0\n"
          ]
        }
      ]
    }
  ]
}