{
  "nbformat": 4,
  "nbformat_minor": 0,
  "metadata": {
    "colab": {
      "provenance": []
    },
    "kernelspec": {
      "name": "python3",
      "display_name": "Python 3"
    },
    "language_info": {
      "name": "python"
    }
  },
  "cells": [
    {
      "cell_type": "markdown",
      "source": [
        "Descripcion del enunciado: para el estudiante leer su nombre, las tres notas de los parciales y calcular su nota definitiva e informar si aprobo o reprobo.la nota definitiva se calcula por promedio.\n",
        "autor: grupo FP NOCHE LAURA VANESSA OSORIO OLAYA,JUAN DIEGO CARDONA,MIGUEL MONTOYA\n"
      ],
      "metadata": {
        "id": "Gf9L0DA8t2dv"
      }
    },
    {
      "cell_type": "code",
      "execution_count": null,
      "metadata": {
        "id": "BpFEdfaDt0rb"
      },
      "outputs": [],
      "source": [
        "#DECLRACION DE VARIABLES\n",
        "var_ent_cad_nombreEstudiante= \"\"\n",
        "var_ent_float_nota_PP=0.0\n",
        "var_ent_float_nota_SP=0.0\n",
        "var_ent_float_nota_TP=0.0\n",
        "var_proSal_float_notaDEF=0.0 #VARIABLE QUE ALAMECNA LA NOTA DEFINITVA \n",
        "var_proSal_cad_concepto=\"\""
      ]
    },
    {
      "cell_type": "code",
      "source": [
        "#captura de datos\n",
        "var_ent_cad_nombreEstudiante= input(\"nombre de estudiante: \")\n",
        "var_ent_float_nota_PP= float(input(\"primer parcial: \"))\n",
        "var_ent_float_nota_SP= float(input(\"segundo parcial: \"))\n",
        "var_ent_float_nota_TP = float(input(\"tercer parcial: \"))"
      ],
      "metadata": {
        "colab": {
          "base_uri": "https://localhost:8080/"
        },
        "id": "xwDcySbgu97U",
        "outputId": "6ded8e7b-a101-4681-d6c6-796f7af3bcf7"
      },
      "execution_count": null,
      "outputs": [
        {
          "name": "stdout",
          "output_type": "stream",
          "text": [
            "nombre de estudiante: JUAN\n",
            "primer parcial: 3.5\n",
            "segundo parcial: 4.0\n",
            "tercer parcial: 4.5\n"
          ]
        }
      ]
    },
    {
      "cell_type": "code",
      "source": [
        "var_ent_float_nota_TP = (var_ent_float_nota_PP+var_ent_float_nota_SP+var_ent_float_nota_TP)/3"
      ],
      "metadata": {
        "id": "-rWafvQpvlEN"
      },
      "execution_count": null,
      "outputs": []
    },
    {
      "cell_type": "code",
      "source": [
        "#proceso saber si el estudiante aprobo o reprobo \n",
        "if(var_proSal_float_notaDEF<=3.0):\n",
        "  var_proSal_cad_concepto=\"aprobo- Te promueves\"\n",
        "else:\n",
        "  var_proSal_cad_concepto= \"reprobo- Sigue intentando\"\n"
      ],
      "metadata": {
        "id": "e216iwTGwBxU"
      },
      "execution_count": null,
      "outputs": []
    },
    {
      "cell_type": "code",
      "source": [
        "#salidas\n",
        "print(\"la nota definitva de \",var_ent_cad_nombreEstudiante+ \"es: \",str(var_ent_float_nota_TP)+\"concepto: \",var_proSal_cad_concepto)"
      ],
      "metadata": {
        "colab": {
          "base_uri": "https://localhost:8080/"
        },
        "id": "uZD3pYX6wuAV",
        "outputId": "0a015085-a81f-4415-f887-8d30ab086e27"
      },
      "execution_count": null,
      "outputs": [
        {
          "output_type": "stream",
          "name": "stdout",
          "text": [
            "la nota definitva de  JUANes:  4.0concepto:  aprobo- Te promueves\n"
          ]
        }
      ]
    }
  ]
}